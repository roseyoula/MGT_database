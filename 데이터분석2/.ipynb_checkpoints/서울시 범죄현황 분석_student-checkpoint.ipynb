{
 "cells": [
  {
   "cell_type": "markdown",
   "metadata": {},
   "source": [
    "# 강남 3구는 안전한가?\n",
    "\n",
    "* 강남3구의 주민들이 자신들이 거주하는 구의 체감 안전도를 높게 생각한다는 기사를 확인하자.\n",
    "* 기사 원문 http://news1.kr/articles/?1911504\n",
    "\n",
    "# 데이터 정리하기"
   ]
  },
  {
   "cell_type": "markdown",
   "metadata": {},
   "source": [
    "* 필요한 모듈을 import한다."
   ]
  },
  {
   "cell_type": "code",
   "execution_count": null,
   "metadata": {},
   "outputs": [],
   "source": []
  },
  {
   "cell_type": "markdown",
   "metadata": {},
   "source": [
    "* 받은 데이터(csv) 파일을 읽는다, 콤마(,)로 천단위가 구분되어 있고, 한글 엔코딩은 **euc-kr**이다\n",
    "* 교재에서 접근하는 방식으로 데이터를 수집하려하면 교재 집필하던 때와 데이터의 형식이 변경되어 있다.\n",
    "* 지금은 데이터를 얻는 것이 실제 데이터라는 것에 대한 증명일 뿐이므로, 해당 데이터를 Github에서 배포하는 데이터를 다운받는 것으로 한다."
   ]
  },
  {
   "cell_type": "code",
   "execution_count": null,
   "metadata": {
    "scrolled": true
   },
   "outputs": [],
   "source": [
    "# 데이터 로드\n"
   ]
  },
  {
   "cell_type": "markdown",
   "metadata": {},
   "source": [
    "### 강남 3구가 안전한지 확인하려는 것인데, 데이터가 관서별로 되어 있음. 경찰서 목록을 소속 구별로 변경해야 함.\n",
    "- [Google Maps Geocoding API]https://developers.google.com/maps/?hl=ko"
   ]
  },
  {
   "cell_type": "markdown",
   "metadata": {},
   "source": [
    "* 구글 맵스를 사용해서 경찰서의 위치(위도, 경도) 정보를 받아온다"
   ]
  },
  {
   "cell_type": "code",
   "execution_count": null,
   "metadata": {},
   "outputs": [],
   "source": [
    "# 구글맵 패키지\n"
   ]
  },
  {
   "cell_type": "code",
   "execution_count": null,
   "metadata": {},
   "outputs": [],
   "source": [
    "# https://developers.google.com/maps/documentation/geocoding/start?hl=ko\n"
   ]
  },
  {
   "cell_type": "markdown",
   "metadata": {},
   "source": [
    "#### JSON\n",
    "JSON(JavaScript Object Notation)은 속성-값 쌍( attribute–value pairs and array data types (or any other serializable value))으로 이루어진 데이터 오브젝트를 전달하기 위해 인간이 읽을 수 있는 텍스트를 사용하는 개방형 표준 포맷이다. 비동기 브라우저/서버 통신 (AJAX)을 위해, 넓게는 XML(AJAX가 사용)을 대체하는 주요 데이터 포맷이다. 특히, 인터넷에서 자료를 주고 받을 때 그 자료를 표현하는 방법으로 알려져 있다. 자료의 종류에 큰 제한은 없으며, 특히 컴퓨터 프로그램의 변수값을 표현하는 데 적합하다.\n",
    "\n",
    "본래는 자바스크립트 언어로부터 파생되어 자바스크립트의 구문 형식을 따르지만 언어 독립형 데이터 포맷이다. 즉, 프로그래밍 언어나 플랫폼에 독립적이므로, 구문 분석 및 JSON 데이터 생성을 위한 코드는 C, C++, C#, 자바, 자바스크립트, 펄, 파이썬 등 수많은 프로그래밍 언어에서 쉽게 이용할 수 있다.\n",
    "{\n",
    "    \"이름\": \"홍길동\",\n",
    "    \"나이\": 25,\n",
    "    \"성별\": \"여\",\n",
    "    \"주소\": \"서울특별시 양천구 목동\",\n",
    "    \"특기\": [\"농구\", \"도술\"],\n",
    "    \"가족관계\": {\"#\": 2, \"아버지\": \"홍판서\", \"어머니\": \"춘섬\"},\n",
    "    \"회사\": \"경기 수원시 팔달구 우만동\"\n",
    " }"
   ]
  },
  {
   "cell_type": "code",
   "execution_count": null,
   "metadata": {},
   "outputs": [],
   "source": [
    "gmaps.geocode('서울강남경찰서', language='ko')"
   ]
  },
  {
   "cell_type": "code",
   "execution_count": null,
   "metadata": {},
   "outputs": [],
   "source": [
    "# 검색 키워드 만들기 ex) XX경찰서\n"
   ]
  },
  {
   "cell_type": "code",
   "execution_count": null,
   "metadata": {},
   "outputs": [],
   "source": [
    "# 데이터 내 모든 경찰서의 주소 얻기\n",
    "station_addreess = []\n",
    "station_lat = []\n",
    "station_lng = []\n",
    "\n",
    "for name in station_name: # 조금 전 작업한 station_name에서\n",
    "    tmp = gmaps.geocode(name, language='ko') # 경찰서이름을 넣고, geocode 정보를 가져와 tmp에 저장한다.\n",
    "    station_addreess.append(tmp[0].get(\"formatted_address\")) # tmp[0]번째의 'formatted_address'를 가져와 station_address에 저장한다.\n",
    "    \n",
    "    tmp_loc = tmp[0].get(\"geometry\") # tmp[0]번째의 'geometry' 정보를 tmp_loc에 저장한다.\n",
    "\n",
    "    station_lat.append(tmp_loc['location']['lat']) # tmp_loc의 'location' 부분의 'lat'를 station_lat에 추가한다.\n",
    "    station_lng.append(tmp_loc['location']['lng']) # tmp_loc의 'location' 부분의 'lng'를 station_lng에 추가한다.\n",
    "    \n",
    "    print(name + '-->' + tmp[0].get(\"formatted_address\")) # 검색한 이름과 추가된 정보를 --> 로 구분하여 표현해 준다."
   ]
  },
  {
   "cell_type": "code",
   "execution_count": null,
   "metadata": {
    "scrolled": true
   },
   "outputs": [],
   "source": [
    "# 주소 확인\n"
   ]
  },
  {
   "cell_type": "code",
   "execution_count": null,
   "metadata": {
    "scrolled": true
   },
   "outputs": [],
   "source": [
    "# 위도 확인\n"
   ]
  },
  {
   "cell_type": "code",
   "execution_count": null,
   "metadata": {
    "scrolled": true
   },
   "outputs": [],
   "source": [
    "# 경도 확인\n"
   ]
  },
  {
   "cell_type": "code",
   "execution_count": null,
   "metadata": {
    "scrolled": true
   },
   "outputs": [],
   "source": [
    "# 경찰서의 소속 행정구를 '구별'이라는 속성으로 저장하기\n",
    "gu_name = []\n",
    "\n",
    "for name in station_addreess:\n",
    "    tmp = name.split() # 공백(space)를 구분으로 문자열을 분리한다.\n",
    "    \n",
    "    tmp_gu = [gu for gu in tmp if gu[-1] == '구'][0] # tmp 내 gu를 순회하면서, gu의 마지막 글자가 '구'로 끝나는 글자들을 tmp_gu에 저장함.\n",
    "    \n",
    "    gu_name.append(tmp_gu)\n",
    "    \n",
    "crime_police['구별'] = gu_name # 데이터에 '구별'이라는 새로운 열을 만든다.\n",
    "crime_police.head()"
   ]
  },
  {
   "cell_type": "markdown",
   "metadata": {},
   "source": [
    "#### 여기서 잠깐! 금천경찰서의 위치는 예외(관악구에 위치함)이다.\n",
    "- https://ko.wikipedia.org/wiki/%EC%84%9C%EC%9A%B8%EA%B8%88%EC%B2%9C%EA%B2%BD%EC%B0%B0%EC%84%9C"
   ]
  },
  {
   "cell_type": "code",
   "execution_count": null,
   "metadata": {},
   "outputs": [],
   "source": [
    "# 금천경찰서의 위치 확인"
   ]
  },
  {
   "cell_type": "code",
   "execution_count": null,
   "metadata": {},
   "outputs": [],
   "source": [
    " # 실제는 관악구이지만 향후 이전할 것이기 때문에 금천구로 변경해놓자.\n",
    " # 바뀐 모습 확인"
   ]
  },
  {
   "cell_type": "code",
   "execution_count": null,
   "metadata": {},
   "outputs": [],
   "source": [
    "# 엑셀로 저장히기 to_csv() 사용\n"
   ]
  },
  {
   "cell_type": "code",
   "execution_count": null,
   "metadata": {},
   "outputs": [],
   "source": []
  },
  {
   "cell_type": "code",
   "execution_count": null,
   "metadata": {},
   "outputs": [],
   "source": [
    "# 강남구에는 경찰서가 두개 존재한다."
   ]
  },
  {
   "cell_type": "markdown",
   "metadata": {},
   "source": [
    "# pandas의 pivot_table 익히기\n",
    "## 피벗 테이블은 왜 필요한가?\n",
    "- 어느 날 직장상사가 엑셀자료를 주면서 새로운 포맷의 정리 자료,(예를 들어, '제품별로 정리된 판매현황'이라든지, '판매처별로 정리된 판매현황'이라든지 만들어올 것을 지시)\n",
    "- 엑셀이나 파이썬에 피벗 테이블 기능이 없다면... 각각의 지시사항에 어울리는 새로운 2가지 표를 수작업으로 만들어야 함. \n",
    "\n",
    "- 2가지 자료를 완성하여 보고하였으나, '담당자별 판매현황'을 정리해오라고 요구한다면 데이터 노동을 해야 함.\n",
    "- 새로운 정리자료를 만들기 위해 데이터를 조작하는 기능을 피벗_테이블(pivot_table)이라고 함."
   ]
  },
  {
   "cell_type": "markdown",
   "metadata": {},
   "source": [
    "## 예제 http://pbpython.com/pandas-pivot-table-explained.html\n",
    "#### 이 예제는 영업 파이프 라인(funnel)을 추적한다.\n",
    "- 기본적인 문제는 일부 판매주기가 매우 길고 ( \"엔터프라이즈 소프트웨어\", 자본 장비 등) 경영진이 일년 내내 더 자세히 이해하고자 함.\n",
    "\n",
    "#### 일반적인 질문은 다음과 같습니다.\n",
    "1. 파이프 라인에 얼마나 많은 수익이 있습니까?\n",
    "2. 어떤 제품이 파이프 라인에 있습니까?\n",
    "3. 누가 어떤 제품을 어떤 단계에 가지고 있습니까?\n",
    "4. 연말까지 거래를 성사시킬 가능성은 어느 정도입니까?\n",
    "\n",
    "### 많은 회사는 판매를 통해 프로세스를 추적하는 CRM 도구 또는 기타 소프트웨어를 보유하게됩니다. 데이터를 분석하는 데 유용한 도구가있을 수도 있지만 필연적으로 누군가가 데이터를 Excel로 내보내고 피벗 테이블을 사용하여 데이터를 요약합니다.\n",
    "\n",
    "#### 팬더의 피벗 테이블을 사용하면 다음과 같은 좋은 대안이 될 수 있습니다.\n",
    "\n",
    "1. 더 빨리 (일단 설치되면)\n",
    "2. 자체 문서화 (코드를 보면 코드가 무엇을하는지 알 수 있습니다.)\n",
    "3. 보고서 또는 전자 메일 생성에 사용하기 쉽습니다.\n",
    "4. 사용자 정의 집계 함수를 정의 할 수 있으므로 유연성이 향상되었습니다."
   ]
  },
  {
   "cell_type": "markdown",
   "metadata": {},
   "source": [
    "### 피벗 테이블 cheatsheet\n",
    "![피벗테이블](pivot-table-datasheet.png)"
   ]
  },
  {
   "cell_type": "code",
   "execution_count": null,
   "metadata": {},
   "outputs": [],
   "source": []
  },
  {
   "cell_type": "code",
   "execution_count": null,
   "metadata": {},
   "outputs": [],
   "source": [
    "# 예제 데이터\n"
   ]
  },
  {
   "cell_type": "code",
   "execution_count": null,
   "metadata": {},
   "outputs": [],
   "source": [
    "# 회사별 account, price, quantity\n",
    "# 가장 간단한 피벗 테이블에는 데이터 프레임과 색인이 있어야 함. 이 경우 컬럼명을 색인으로 사용할 것.\n"
   ]
  },
  {
   "cell_type": "code",
   "execution_count": null,
   "metadata": {},
   "outputs": [],
   "source": [
    "# 회사 / 대리인 / 담당자 - account price quantity\n",
    "# 또한 여러 개의 인덱스를 가질 수 있음. 사실, pivot_table 인자(args)의 대부분은 리스트 형태로 여러 값을 취할 수 있음.\n"
   ]
  },
  {
   "cell_type": "code",
   "execution_count": null,
   "metadata": {},
   "outputs": [],
   "source": [
    "# 담당자 / 대리인 - account price quantity\n",
    "# Manager와 Rep의 순서를 변경하여 하는 것입니다. 인덱스를 변경하는 것만으로도 쉽게 할 수 있습니다.\n"
   ]
  },
  {
   "cell_type": "code",
   "execution_count": null,
   "metadata": {},
   "outputs": [],
   "source": [
    "# 담당자 - 대리인 - 가격(평균)만!\n",
    "# account 및 quantity 열은 기준으로 사용하기에 유용하지 않음. 값 필드를 사용하여 관심있는 열을 명시적으로 정의하여 제거해 보겠습니다.\n"
   ]
  },
  {
   "cell_type": "code",
   "execution_count": null,
   "metadata": {},
   "outputs": [],
   "source": [
    "# 담당자 - 대리인 - 가격(합계)만!\n",
    "# 가격 열은 데이터를 자동으로 평균화하지만 빈도수 또는 합계를 계산할 수 있다. aggfunc와 np.sum을 사용하면 합계를 간단히 추가 할 수 있다.\n"
   ]
  },
  {
   "cell_type": "code",
   "execution_count": null,
   "metadata": {},
   "outputs": [],
   "source": [
    "# 담당자 / 대리인 - price(평균) / price(빈도)\n",
    "# aggfunc는 함수 목록을 취할 수 있다. numpy의 mean 함수와 len 함수를 사용하여 평균값과 빈도수 값을 각각 계산해 본다.\n",
    " # mean은 평균, len은 빈도수"
   ]
  },
  {
   "cell_type": "code",
   "execution_count": null,
   "metadata": {},
   "outputs": [],
   "source": [
    "# 담당자 / 대리인 - product별 price(합계)\n",
    "# 제품별로 판매가 세분화되기를 원한다면, columns 변수를 사용하여 하나 이상의 열을 정의 할 수 있습니다.\n"
   ]
  },
  {
   "cell_type": "markdown",
   "metadata": {},
   "source": [
    "#### Columns vs. Values\n",
    "- pivot_table과 혼란스러운 점 중 하나는 컬럼과 값의 사용이다.\n",
    "- 열은 선택 사항이다.\n",
    "- 실제 값을 구분할 수있는 추가 방법을 제공한다. \n",
    "- 집계 함수는 사용자가 나열한 값에 적용됩니다."
   ]
  },
  {
   "cell_type": "code",
   "execution_count": null,
   "metadata": {},
   "outputs": [],
   "source": [
    "# 담당자 / 대리인 - 제품별 price(합계), NaN 문제\n",
    "# NaN(값 없음)을 제거하려면 fill_value를 사용하여 0으로 설정할 수 있다.\n"
   ]
  },
  {
   "cell_type": "code",
   "execution_count": null,
   "metadata": {},
   "outputs": [],
   "source": [
    "# 담당자 / 대리인 / 제품 - price / quantity\n",
    "# 수량을 추가하는 것도 도움이 된다. 값(value) 목록에 수량(quantity)을 추가해보자.\n"
   ]
  },
  {
   "cell_type": "code",
   "execution_count": null,
   "metadata": {},
   "outputs": [],
   "source": [
    "# 담당자 / 대리인 / 제품 - price(합계) quantity(합계) / price(평균) quantity(평균) - 합계(margin)\n",
    "# 항목을 색인으로 이동하여 다른 시각적 표현을 얻을 수 있다. 열에서 제품(product)을 제거하고 색인에 추가하자.\n"
   ]
  },
  {
   "cell_type": "markdown",
   "metadata": {},
   "source": [
    "# 범죄 데이터 구별로 정리하기"
   ]
  },
  {
   "cell_type": "code",
   "execution_count": null,
   "metadata": {},
   "outputs": [],
   "source": [
    "# 데이터 불러오기\n",
    "\n",
    "# '구별'을 중심으로 양적 데이터의 합계를 구함.\n"
   ]
  },
  {
   "cell_type": "code",
   "execution_count": null,
   "metadata": {},
   "outputs": [],
   "source": [
    "# 새로운 변수를 만들자 = 검거는 와닿지 않기 때문에 검거율로 변환한다. \n",
    "\n",
    "\n"
   ]
  },
  {
   "cell_type": "code",
   "execution_count": null,
   "metadata": {},
   "outputs": [],
   "source": [
    "# 검거율 5개 항목의 최대치를 100으로 조정\n"
   ]
  },
  {
   "cell_type": "code",
   "execution_count": null,
   "metadata": {},
   "outputs": [],
   "source": [
    "# 변수의 이름 바꾸기\n"
   ]
  },
  {
   "cell_type": "code",
   "execution_count": null,
   "metadata": {},
   "outputs": [],
   "source": [
    "# 파이썬 머신러닝 패키지 scikit-learn 불러오기\n",
    "\n",
    "\n",
    "# 위에 해당되는 컬럼의 값만 x에 저장하기"
   ]
  },
  {
   "cell_type": "markdown",
   "metadata": {},
   "source": [
    "#### 많은 양의 데이터를 처리함에 있어 여러 이유로 평균화, 즉 데이터의 범위를 일치시키거나 분포를 유사하게 만들어 주는 등의 작업은 꼭 필요한 일이다. \n",
    "- 본 데이터는 scikit-learn의 MinMaxScaler()를 활용하여 평균화 한다.\n",
    "    - 평균화는 모든 데이터의 값을 [0, 1] 의 구간으로 한정시키는 것이다.\n",
    "    - 변형 X_std = (X - X.min) / (X.max - X.min)\n",
    "    - X_scaled = X_std * (최대 - 최소) + 최소"
   ]
  },
  {
   "cell_type": "code",
   "execution_count": null,
   "metadata": {},
   "outputs": [],
   "source": [
    "# 전처리 - 평균화 수행\n",
    "min_max_scaler = preprocessing.MinMaxScaler() # \n",
    "\n",
    "x_scaled = min_max_scaler.fit_transform(x.astype(float)) # 데이터만 있는 x값들을 전처리 수행함.\n",
    "crime_norm = pd.DataFrame(x_scaled, columns = col, index = crime.index) # crime_norm이라는 데이터 프레임을 새로 만듬.\n",
    "\n",
    "\n",
    "# col2 데이터 속성 정리\n",
    "# crime[col2] 부분을 그대로 crime_norm[col2]에 이식함.\n"
   ]
  },
  {
   "cell_type": "markdown",
   "metadata": {},
   "source": [
    "### 지난 시간에 분석한 CCTV_result.csv 파일 내에 구별 인구수와 CCTV 개수를 가지고 오자."
   ]
  },
  {
   "cell_type": "code",
   "execution_count": null,
   "metadata": {},
   "outputs": [],
   "source": [
    "# 지난 시간에 만든 데이터를 불러오기\n"
   ]
  },
  {
   "cell_type": "code",
   "execution_count": null,
   "metadata": {},
   "outputs": [],
   "source": [
    "# 범죄라는 속성값을 만들고, 강간, 강도, 살인, 절도, 폭력 건수(평균화 점수)를 더한다.\n"
   ]
  },
  {
   "cell_type": "code",
   "execution_count": null,
   "metadata": {},
   "outputs": [],
   "source": [
    "# 검거라는 속성값을 만들고, 강간검거율, 강도검거율, 살인검거율, 절도검거율, 폭력검거율 건수(평균화 점수)를 더한다.\n"
   ]
  },
  {
   "cell_type": "markdown",
   "metadata": {},
   "source": [
    "# seaborn"
   ]
  },
  {
   "cell_type": "code",
   "execution_count": null,
   "metadata": {},
   "outputs": [],
   "source": [
    "import matplotlib.pyplot as plt\n",
    "import numpy as np\n",
    "import seaborn as sns\n",
    "\n",
    "sns.set_style(\"whitegrid\")\n",
    "%matplotlib inline"
   ]
  },
  {
   "cell_type": "code",
   "execution_count": null,
   "metadata": {},
   "outputs": [],
   "source": [
    "# 연습 데이터 tips는 seaborn 패키지에 들어있는 데이터이며, 요일별 점심, 저녁, 흡연 여부와 식사 금액과 팁을 정리한 데이터이다.\n",
    "tips = sns.load_dataset(\"tips\", engine='python')\n",
    "tips.tail(5)"
   ]
  },
  {
   "cell_type": "code",
   "execution_count": null,
   "metadata": {},
   "outputs": [],
   "source": [
    "# 데이터 시각화\n",
    "sns.set_style(\"whitegrid\")\n",
    "\n",
    "plt.figure(figsize=(8,6))\n",
    "sns.boxplot(x=tips[\"total_bill\"]) # 1차원 박스 플롯\n",
    "plt.show()"
   ]
  },
  {
   "cell_type": "code",
   "execution_count": null,
   "metadata": {},
   "outputs": [],
   "source": [
    "plt.figure(figsize=(8,6))\n",
    "sns.boxplot(x=\"day\", y=\"total_bill\", data=tips) # 2차원 박스 플롯\n",
    "plt.show()"
   ]
  },
  {
   "cell_type": "code",
   "execution_count": null,
   "metadata": {},
   "outputs": [],
   "source": [
    "plt.figure(figsize=(8,6))\n",
    "sns.boxplot(x=\"day\", y=\"total_bill\", hue=\"smoker\", data=tips, palette=\"Set2\") # hue 옵션은 집단(흡연/비흡연)을 분류할 수 있음. \n",
    "plt.show()\n",
    "# 흡연자의 결제비율 범위가 큼"
   ]
  },
  {
   "cell_type": "code",
   "execution_count": null,
   "metadata": {},
   "outputs": [],
   "source": [
    "plt.figure(figsize=(8,6))\n",
    "sns.swarmplot(x=\"day\", y=\"total_bill\", data=tips, color=\".5\")\n",
    "plt.show()"
   ]
  },
  {
   "cell_type": "code",
   "execution_count": null,
   "metadata": {},
   "outputs": [],
   "source": [
    "plt.figure(figsize=(8,6))\n",
    "sns.boxplot(x=\"day\", y=\"total_bill\", data=tips)\n",
    "sns.swarmplot(x=\"day\", y=\"total_bill\", data=tips, color=\".25\")\n",
    "plt.show()"
   ]
  },
  {
   "cell_type": "code",
   "execution_count": null,
   "metadata": {},
   "outputs": [],
   "source": [
    "import matplotlib.pyplot as plt\n",
    "import seaborn as sns\n",
    "%matplotlib inline\n",
    "\n",
    "tips = sns.load_dataset(\"tips\", engine='python')\n",
    "tips.head(5)"
   ]
  },
  {
   "cell_type": "code",
   "execution_count": null,
   "metadata": {},
   "outputs": [],
   "source": [
    "sns.set_style(\"darkgrid\")\n",
    "sns.lmplot(x=\"total_bill\", y=\"tip\", data=tips, size=7) # regression plot\n",
    "plt.show()"
   ]
  },
  {
   "cell_type": "code",
   "execution_count": null,
   "metadata": {},
   "outputs": [],
   "source": [
    "sns.lmplot(x=\"total_bill\", y=\"tip\", hue=\"smoker\", data=tips, size=7)\n",
    "plt.show()"
   ]
  },
  {
   "cell_type": "code",
   "execution_count": null,
   "metadata": {},
   "outputs": [],
   "source": [
    "sns.lmplot(x=\"total_bill\", y=\"tip\", hue=\"smoker\", data=tips, palette=\"Set1\", size=7)\n",
    "plt.show()"
   ]
  },
  {
   "cell_type": "code",
   "execution_count": null,
   "metadata": {},
   "outputs": [],
   "source": [
    "flights = sns.load_dataset(\"flights\", engine='python')\n",
    "flights.head(5)"
   ]
  },
  {
   "cell_type": "code",
   "execution_count": null,
   "metadata": {},
   "outputs": [],
   "source": [
    "flights = flights.pivot(\"month\", \"year\", \"passengers\")\n",
    "flights.head(5)"
   ]
  },
  {
   "cell_type": "code",
   "execution_count": null,
   "metadata": {},
   "outputs": [],
   "source": [
    "plt.figure(figsize=(10,8))\n",
    "sns.heatmap(flights)\n",
    "plt.show()"
   ]
  },
  {
   "cell_type": "code",
   "execution_count": null,
   "metadata": {},
   "outputs": [],
   "source": [
    "plt.figure(figsize=(10,8))\n",
    "sns.heatmap(flights, annot=True, fmt=\"d\")\n",
    "plt.show()"
   ]
  },
  {
   "cell_type": "code",
   "execution_count": null,
   "metadata": {},
   "outputs": [],
   "source": [
    "sns.set(style=\"ticks\")\n",
    "iris = sns.load_dataset(\"iris\", engine='python')\n",
    "iris.head(10)"
   ]
  },
  {
   "cell_type": "code",
   "execution_count": null,
   "metadata": {},
   "outputs": [],
   "source": [
    "sns.pairplot(iris)\n",
    "plt.show()"
   ]
  },
  {
   "cell_type": "code",
   "execution_count": null,
   "metadata": {},
   "outputs": [],
   "source": [
    "sns.pairplot(iris, hue=\"species\")\n",
    "plt.show()"
   ]
  },
  {
   "cell_type": "code",
   "execution_count": null,
   "metadata": {},
   "outputs": [],
   "source": [
    "sns.pairplot(iris, vars=[\"sepal_width\", \"sepal_length\"])\n",
    "plt.show()"
   ]
  },
  {
   "cell_type": "code",
   "execution_count": null,
   "metadata": {},
   "outputs": [],
   "source": [
    "sns.pairplot(iris, x_vars=[\"sepal_width\", \"sepal_length\"], \n",
    "             y_vars=[\"petal_width\", \"petal_length\"])\n",
    "plt.show()"
   ]
  },
  {
   "cell_type": "markdown",
   "metadata": {},
   "source": [
    "# Visualization using seaborn"
   ]
  },
  {
   "cell_type": "code",
   "execution_count": null,
   "metadata": {},
   "outputs": [],
   "source": [
    "# 시각화 패키지 matplotlib과 seaborn 불러오기\n",
    "import matplotlib.pyplot as plt\n",
    "import seaborn as sns\n",
    "\n",
    "%matplotlib inline\n",
    "\n",
    "# 폰트 문제 해결하기\n",
    "import platform\n",
    "\n",
    "path = \"c:/Windows/Fonts/malgun.ttf\"\n",
    "from matplotlib import font_manager, rc\n",
    "if platform.system() == 'Darwin':\n",
    "    rc('font', family='AppleGothic')\n",
    "elif platform.system() == 'Windows':\n",
    "    font_name = font_manager.FontProperties(fname=path).get_name()\n",
    "    rc('font', family=font_name)\n",
    "else:\n",
    "    print('Unknown system... sorry~~~~') "
   ]
  },
  {
   "cell_type": "code",
   "execution_count": null,
   "metadata": {},
   "outputs": [],
   "source": [
    "crime_norm.head()"
   ]
  },
  {
   "cell_type": "code",
   "execution_count": null,
   "metadata": {},
   "outputs": [],
   "source": [
    "# 강도, 살인, 폭력의 상관관계 분석\n"
   ]
  },
  {
   "cell_type": "markdown",
   "metadata": {},
   "source": []
  },
  {
   "cell_type": "code",
   "execution_count": null,
   "metadata": {},
   "outputs": [],
   "source": []
  },
  {
   "cell_type": "markdown",
   "metadata": {},
   "source": []
  },
  {
   "cell_type": "code",
   "execution_count": null,
   "metadata": {},
   "outputs": [],
   "source": [
    "# 인구수 CCTV와 살인검거율과 폭력검거율의 상관관계\n"
   ]
  },
  {
   "cell_type": "markdown",
   "metadata": {},
   "source": []
  },
  {
   "cell_type": "code",
   "execution_count": null,
   "metadata": {},
   "outputs": [],
   "source": []
  },
  {
   "cell_type": "markdown",
   "metadata": {},
   "source": []
  },
  {
   "cell_type": "code",
   "execution_count": null,
   "metadata": {},
   "outputs": [],
   "source": [
    "# 절도검거율, 강도검도율과 인구수, CCTV 상관관계\n"
   ]
  },
  {
   "cell_type": "markdown",
   "metadata": {},
   "source": []
  },
  {
   "cell_type": "code",
   "execution_count": null,
   "metadata": {},
   "outputs": [],
   "source": [
    "# 검거 열을 최대치 100으로 환산\n"
   ]
  },
  {
   "cell_type": "code",
   "execution_count": null,
   "metadata": {},
   "outputs": [],
   "source": [
    "# 구별 5대 범죄 검거율을 히트맵으로 그리기\n"
   ]
  },
  {
   "cell_type": "markdown",
   "metadata": {},
   "source": []
  },
  {
   "cell_type": "code",
   "execution_count": null,
   "metadata": {},
   "outputs": [],
   "source": [
    "# 발생건수의 합으로 정렬\n"
   ]
  },
  {
   "cell_type": "markdown",
   "metadata": {},
   "source": []
  },
  {
   "cell_type": "code",
   "execution_count": null,
   "metadata": {},
   "outputs": [],
   "source": []
  },
  {
   "cell_type": "markdown",
   "metadata": {},
   "source": [
    "# Folium "
   ]
  },
  {
   "cell_type": "code",
   "execution_count": null,
   "metadata": {},
   "outputs": [],
   "source": [
    "import folium"
   ]
  },
  {
   "cell_type": "markdown",
   "metadata": {},
   "source": [
    "# 범죄율에 대한 지도 시각화"
   ]
  },
  {
   "cell_type": "code",
   "execution_count": null,
   "metadata": {},
   "outputs": [],
   "source": [
    "crime_norm"
   ]
  },
  {
   "cell_type": "code",
   "execution_count": null,
   "metadata": {},
   "outputs": [],
   "source": [
    "# 한국 지도 형태 가져오기\n",
    "import json\n",
    "geo_path = 'skorea_municipalities_geo_simple.json'\n",
    "geo_str = json.load(open(geo_path, encoding='utf-8'))"
   ]
  },
  {
   "cell_type": "markdown",
   "metadata": {},
   "source": []
  },
  {
   "cell_type": "code",
   "execution_count": null,
   "metadata": {},
   "outputs": [],
   "source": [
    "# 살인 발생 건수로 그리기\n",
    "map = folium.Map(location=[37.5502, 126.982], zoom_start=11, \n",
    "                 tiles='Stamen Toner')\n",
    "\n",
    "map.choropleth(geo_data = geo_str,\n",
    "               data = crime_norm['강간'],\n",
    "               columns = [crime_norm.index, crime_norm['강간']],\n",
    "               fill_color = 'PuRd', #PuRd, YlGnBu\n",
    "               key_on = 'feature.id')\n",
    "map"
   ]
  },
  {
   "cell_type": "markdown",
   "metadata": {},
   "source": []
  },
  {
   "cell_type": "code",
   "execution_count": null,
   "metadata": {},
   "outputs": [],
   "source": [
    "# 범죄 발생 건수로 그리기\n",
    "map = folium.Map(location=[37.5502, 126.982], zoom_start=11, \n",
    "                 tiles='Stamen Toner')\n",
    "\n",
    "map.choropleth(geo_data = geo_str,\n",
    "               data = crime_norm['범죄'],\n",
    "               columns = [crime_norm.index, crime_norm['범죄']],\n",
    "               fill_color = 'PuRd', #PuRd, YlGnBu\n",
    "               key_on = 'feature.id')\n",
    "map"
   ]
  },
  {
   "cell_type": "code",
   "execution_count": null,
   "metadata": {},
   "outputs": [],
   "source": [
    "# 살인 발생 건수로 그리기\n",
    "tmp_criminal = crime_norm['살인'] /  crime_norm['인구수'] * 1000000\n",
    "\n",
    "map = folium.Map(location=[37.5502, 126.982], zoom_start=11, \n",
    "                 tiles='Stamen Toner')\n",
    "\n",
    "map.choropleth(geo_data = geo_str,\n",
    "               data = tmp_criminal,\n",
    "               columns = [crime.index, tmp_criminal],\n",
    "               fill_color = 'PuRd', #PuRd, YlGnBu\n",
    "               key_on = 'feature.id')\n",
    "map"
   ]
  },
  {
   "cell_type": "code",
   "execution_count": null,
   "metadata": {},
   "outputs": [],
   "source": [
    "# 범죄 발생 건수로 그리기\n",
    "tmp_criminal = crime_norm['범죄'] /  crime_norm['인구수'] * 1000000\n",
    "\n",
    "map = folium.Map(location=[37.5502, 126.982], zoom_start=11, \n",
    "                 tiles='Stamen Toner')\n",
    "\n",
    "map.choropleth(geo_data = geo_str,\n",
    "               data = tmp_criminal,\n",
    "               columns = [crime.index, tmp_criminal],\n",
    "               fill_color = 'PuRd', #PuRd, YlGnBu\n",
    "               key_on = 'feature.id')\n",
    "map"
   ]
  },
  {
   "cell_type": "code",
   "execution_count": null,
   "metadata": {},
   "outputs": [],
   "source": [
    "# 색깔 조합 YlGnBu\n",
    "map = folium.Map(location=[37.5502, 126.982], zoom_start=11, \n",
    "                 tiles='Stamen Toner')\n",
    "\n",
    "map.choropleth(geo_data = geo_str,\n",
    "               data = crime_norm['검거'],\n",
    "               columns = [crime_norm.index, crime_norm['검거']],\n",
    "               fill_color = 'YlGnBu', #PuRd, YlGnBu\n",
    "               key_on = 'feature.id')\n",
    "map"
   ]
  },
  {
   "cell_type": "markdown",
   "metadata": {},
   "source": [
    "# 경찰서별 검거현황과 구별 범죄발생 현황을 표현하기"
   ]
  },
  {
   "cell_type": "code",
   "execution_count": null,
   "metadata": {},
   "outputs": [],
   "source": [
    "# 경찰서 위치 저장\n",
    "crime_raw['lat'] = station_lat\n",
    "crime_raw['lng'] = station_lng\n",
    "\n",
    "col = ['살인 검거', '강도 검거', '강간 검거', '절도 검거', '폭력 검거']\n",
    "tmp = crime_raw[col] / crime_raw[col].max()\n",
    "    \n",
    "crime_raw['검거'] = np.sum(tmp, axis=1)\n",
    "\n",
    "crime_raw.head()"
   ]
  },
  {
   "cell_type": "code",
   "execution_count": null,
   "metadata": {},
   "outputs": [],
   "source": [
    "# 경찰서 위치 띄우기\n",
    "map = folium.Map(location=[37.5502, 126.982], zoom_start=11)\n",
    "\n",
    "for n in crime_raw.index:\n",
    "    folium.Marker([crime_raw['lat'][n], \n",
    "                   crime_raw['lng'][n]]).add_to(map)\n",
    "    \n",
    "map"
   ]
  },
  {
   "cell_type": "code",
   "execution_count": null,
   "metadata": {},
   "outputs": [],
   "source": [
    "# 검거에 적당한 값(10)을 곱해서 원 넓이를 정하고, 경찰서의 검거율을 원의 넓이로 표현한다.\n",
    "map = folium.Map(location=[37.5502, 126.982], zoom_start=11)\n",
    "\n",
    "for n in crime_raw.index:\n",
    "    folium.CircleMarker([crime_raw['lat'][n], crime_raw['lng'][n]], \n",
    "                        radius = crime_raw['검거'][n]*10, \n",
    "                        color='#3186cc', fill_color='#3186cc', fill=True).add_to(map)\n",
    "    \n",
    "map"
   ]
  },
  {
   "cell_type": "markdown",
   "metadata": {},
   "source": []
  },
  {
   "cell_type": "code",
   "execution_count": null,
   "metadata": {},
   "outputs": [],
   "source": [
    "map = folium.Map(location=[37.5502, 126.982], zoom_start=11)\n",
    "\n",
    "map.choropleth(geo_data = geo_str,\n",
    "               data = crime_norm['범죄'],\n",
    "               columns = [crime_norm.index, crime_norm['범죄']],\n",
    "               fill_color = 'PuRd', #PuRd, YlGnBu\n",
    "               key_on = 'feature.id')\n",
    "\n",
    "for n in crime_raw.index:\n",
    "    folium.CircleMarker([crime_raw['lat'][n], crime_raw['lng'][n]], \n",
    "                        radius = crime_raw['검거'][n]*10, \n",
    "                        color='#3186cc', fill_color='#3186cc', fill=True).add_to(map)\n",
    "    \n",
    "map"
   ]
  },
  {
   "cell_type": "markdown",
   "metadata": {},
   "source": []
  }
 ],
 "metadata": {
  "anaconda-cloud": {},
  "kernelspec": {
   "display_name": "Python 3",
   "language": "python",
   "name": "python3"
  },
  "language_info": {
   "codemirror_mode": {
    "name": "ipython",
    "version": 3
   },
   "file_extension": ".py",
   "mimetype": "text/x-python",
   "name": "python",
   "nbconvert_exporter": "python",
   "pygments_lexer": "ipython3",
   "version": "3.6.1"
  }
 },
 "nbformat": 4,
 "nbformat_minor": 2
}

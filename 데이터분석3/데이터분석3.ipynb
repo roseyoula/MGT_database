{
 "cells": [
  {
   "cell_type": "code",
   "execution_count": 12,
   "metadata": {},
   "outputs": [
    {
     "ename": "ModuleNotFoundError",
     "evalue": "No module named 'sklearn'",
     "output_type": "error",
     "traceback": [
      "\u001b[1;31m---------------------------------------------------------------------------\u001b[0m",
      "\u001b[1;31mModuleNotFoundError\u001b[0m                       Traceback (most recent call last)",
      "\u001b[1;32m<ipython-input-12-bb68b54bc5da>\u001b[0m in \u001b[0;36m<module>\u001b[1;34m()\u001b[0m\n\u001b[0;32m      4\u001b[0m \u001b[1;32mfrom\u001b[0m \u001b[0mwordcloud\u001b[0m \u001b[1;32mimport\u001b[0m \u001b[0mWordCloud\u001b[0m\u001b[1;33m,\u001b[0m \u001b[0mSTOPWORDS\u001b[0m\u001b[1;33m\u001b[0m\u001b[0m\n\u001b[0;32m      5\u001b[0m \u001b[1;32mfrom\u001b[0m \u001b[0mpalettable\u001b[0m\u001b[1;33m.\u001b[0m\u001b[0mcolorbrewer\u001b[0m\u001b[1;33m.\u001b[0m\u001b[0mqualitative\u001b[0m \u001b[1;32mimport\u001b[0m \u001b[0mDark2_8\u001b[0m\u001b[1;33m\u001b[0m\u001b[0m\n\u001b[1;32m----> 6\u001b[1;33m \u001b[1;32mfrom\u001b[0m \u001b[0msklearn\u001b[0m\u001b[1;33m.\u001b[0m\u001b[0mfeature_extraction\u001b[0m\u001b[1;33m.\u001b[0m\u001b[0mtext\u001b[0m \u001b[1;32mimport\u001b[0m \u001b[0mCountVectorizer\u001b[0m\u001b[1;33m\u001b[0m\u001b[0m\n\u001b[0m\u001b[0;32m      7\u001b[0m \u001b[1;32mimport\u001b[0m \u001b[0mmatplotlib\u001b[0m\u001b[1;33m.\u001b[0m\u001b[0mpyplot\u001b[0m \u001b[1;32mas\u001b[0m \u001b[0mplt\u001b[0m\u001b[1;33m\u001b[0m\u001b[0m\n\u001b[0;32m      8\u001b[0m \u001b[0mget_ipython\u001b[0m\u001b[1;33m(\u001b[0m\u001b[1;33m)\u001b[0m\u001b[1;33m.\u001b[0m\u001b[0mrun_line_magic\u001b[0m\u001b[1;33m(\u001b[0m\u001b[1;34m'matplotlib'\u001b[0m\u001b[1;33m,\u001b[0m \u001b[1;34m'inline'\u001b[0m\u001b[1;33m)\u001b[0m\u001b[1;33m\u001b[0m\u001b[0m\n",
      "\u001b[1;31mModuleNotFoundError\u001b[0m: No module named 'sklearn'"
     ]
    }
   ],
   "source": [
    "import numpy as np\n",
    "import random\n",
    "from PIL import Image\n",
    "from wordcloud import WordCloud, STOPWORDS\n",
    "from palettable.colorbrewer.qualitative import Dark2_8\n",
    "from sklearn.feature_extraction.text import CountVectorizer\n",
    "import matplotlib.pyplot as plt\n",
    "%matplotlib inline"
   ]
  },
  {
   "cell_type": "code",
   "execution_count": 1,
   "metadata": {},
   "outputs": [],
   "source": [
    "font = \"NanumPen\"\n",
    "font_path = \"%s.ttf\" % font\n",
    "\n",
    "icon = \"owl\"\n",
    "icon_path = \"%s.png\" % icon"
   ]
  },
  {
   "cell_type": "code",
   "execution_count": 2,
   "metadata": {},
   "outputs": [
    {
     "name": "stdout",
     "output_type": "stream",
     "text": [
      "President Faust, members of the Harvard Corporation and the Board of Overseers, members of the faculty, proud parents, and, above all, graduates.\n",
      "The first thing I would like to say is ‘thank you.’ Not only has Harvard given me an extraordinary honour, but the weeks of fear and nausea I have endured at the thought of giving this commencement address have made me lose weight. A win-win situation! Now all I have to do is take deep breaths, squint at the red banners and convince myself that I am at the world’s largest Gryffindor reunion.\n",
      "Delivering a commencement address is a great responsibility; or so I thought until I cast my mind back to my own graduation. The commencement speaker that day was the distinguished British philosopher Baroness Mary Warnock. Reflecting on her speech has helped me enormously in writing this one, because it turns out that I can’t remember a single word she said. This liberating discovery enables me to proceed without any fear that I might inadvertently influence you to abandon promising careers in business, the law or politics for the giddy delights of becoming a gay wizard.\n",
      "You see? If all you remember in years to come is the ‘gay wizard’ joke, I’ve come out ahead of Baroness Mary Warnock. Achievable goals: the first step to self improvement.\n",
      "Actually, I have wracked my mind and heart for what I ought to say to you today. I have asked myself what I wish I had known at my own graduation, and what important lessons I have learned in the 21 years that have expired between that day and this.\n",
      "I have come up with two answers. On this wonderful day when we are gathered together to celebrate your academic success, I have decided to talk to you about the benefits of failure. And as you stand on the threshold of what is sometimes called ‘real life’, I want to extol the crucial importance of imagination.\n",
      "These may seem quixotic or paradoxical choices, but please bear with me.\n",
      "Looking back at the 21-year-old that I was at graduation, is a slightly uncomfortable experience for the 42-year-old that she has become. Half my lifetime ago, I was striking an uneasy balance between the ambition I had for myself, and what those closest to me expected of me.\n",
      "I was convinced that the only thing I wanted to do, ever, was to write novels. However, my parents, both of whom came from impoverished backgrounds and neither of whom had been to college, took the view that my overactive imagination was an amusing personal quirk that would never pay a mortgage, or secure a pension. I know that the irony strikes with the force of a cartoon anvil, now.\n",
      "So they hoped that I would take a vocational degree; I wanted to study English Literature. A compromise was reached that in retrospect satisfied nobody, and I went up to study Modern Languages. Hardly had my parents’ car rounded the corner at the end of the road than I ditched German and scuttled off down the Classics corridor.\n",
      "I cannot remember telling my parents that I was studying Classics; they might well have found out for the first time on graduation day. Of all the subjects on this planet, I think they would have been hard put to name one less useful than Greek mythology when it came to securing the keys to an executive bathroom.\n",
      "I would like to make it clear, in parenthesis, that I do not blame my parents for their point of view. There is an expiry date on blaming your parents for steering you in the wrong direction; the moment you are old enough to take the wheel, responsibility lies with you. What is more, I cannot criticise my parents for hoping that I would never experience poverty. They had been poor themselves, and I have since been poor, and I quite agree with them that it is not an ennobling experience. Poverty entails fear, and stress, and sometimes depression; it means a thousand petty humiliations and hardships. Climbing out of poverty by your own efforts, that is indeed something on which to pride yourself, but poverty itself is romanticised only by fools.\n",
      "What I feared most for myself at your age was not poverty, but failure. \n",
      "At your age, in spite of a distinct lack of motivation at university, where I had spent far too long in the coffee bar writing stories, and far too little time at lectures, I had a knack for passing examinations, and that, for years, had been the measure of success in my life and that of my peers.\n",
      "I am not dull enough to suppose that because you are young, gifted and well-educated, you have never known hardship or heartbreak. Talent and intelligence never yet inoculated anyone against the caprice of the Fates, and I do not for a moment suppose that everyone here has enjoyed an existence of unruffled privilege and contentment.\n",
      "However, the fact that you are graduating from Harvard suggests that you are not very well-acquainted with failure. You might be driven by a fear of failure quite as much as a desire for success. Indeed, your conception of failure might not be too far from the average person’s idea of success, so high have you already flown.\n",
      "Ultimately, we all have to decide for ourselves what constitutes failure, but the world is quite eager to give you a set of criteria if you let it. So I think it fair to say that by any conventional measure, a mere seven years after my graduation day, I had failed on an epic scale. An exceptionally short-lived marriage had imploded, and I was jobless, a lone parent, and as poor as it is possible to be in modern Britain, without being homeless. The fears that my parents had had for me, and that I had had for myself, had both come to pass, and by every usual standard, I was the biggest failure I knew.\n",
      "Now, I am not going to stand here and tell you that failure is fun. That period of my life was a dark one, and I had no idea that there was going to be what the press has since represented as a kind of fairy tale resolution. I had no idea then how far the tunnel extended, and for a long time, any light at the end of it was a hope rather than a reality.\n",
      "So why do I talk about the benefits of failure? Simply because failure meant a stripping away of the inessential. I stopped pretending to myself that I was anything other than what I was, and began to direct all my energy into finishing the only work that mattered to me. Had I really succeeded at anything else, I might never have found the determination to succeed in the one arena I believed I truly belonged. I was set free, because my greatest fear had been realised, and I was still alive, and I still had a daughter whom I adored, and I had an old typewriter and a big idea. And so rock bottom became the solid foundation on which I rebuilt my life.\n",
      "You might never fail on the scale I did, but some failure in life is inevitable. It is impossible to live without failing at something, unless you live so cautiously that you might as well not have lived at all ? in which case, you fail by default.\n",
      "Failure gave me an inner security that I had never attained by passing examinations. Failure taught me things about myself that I could have learned no other way. I discovered that I had a strong will, and more discipline than I had suspected; I also found out that I had friends whose value was truly above the price of rubies.\n",
      "The knowledge that you have emerged wiser and stronger from setbacks means that you are, ever after, secure in your ability to survive. You will never truly know yourself, or the strength of your relationships, until both have been tested by adversity. Such knowledge is a true gift, for all that it is painfully won, and it has been worth more than any qualification I ever earned.\n",
      "So given a Time Turner, I would tell my 21-year-old self that personal happiness lies in knowing that life is not a check-list of acquisition or achievement. Your qualifications, your CV, are not your life, though you will meet many people of my age and older who confuse the two. Life is difficult, and complicated, and beyond anyone’s total control, and the humility to know that will enable you to survive its vicissitudes.\n",
      "Now you might think that I chose my second theme, the importance of imagination, because of the part it played in rebuilding my life, but that is not wholly so. Though I personally will defend the value of bedtime stories to my last gasp, I have learned to value imagination in a much broader sense. Imagination is not only the uniquely human capacity to envision that which is not, and therefore the fount of all invention and innovation. In its arguably most transformative and revelatory capacity, it is the power that enables us to empathise with humans whose experiences we have never shared.\n",
      "One of the greatest formative experiences of my life preceded Harry Potter, though it informed much of what I subsequently wrote in those books. This revelation came in the form of one of my earliest day jobs. Though I was sloping off to write stories during my lunch hours, I paid the rent in my early 20s by working at the African research department at Amnesty International’s headquarters in London.\n",
      "There in my little office I read hastily scribbled letters smuggled out of totalitarian regimes by men and women who were risking imprisonment to inform the outside world of what was happening to them. I saw photographs of those who had disappeared without trace, sent to Amnesty by their desperate families and friends. I read the testimony of torture victims and saw pictures of their injuries. I opened handwritten, eye-witness accounts of summary trials and executions, of kidnappings and rapes.\n",
      "Many of my co-workers were ex-political prisoners, people who had been displaced from their homes, or fled into exile, because they had the temerity to speak against their governments. Visitors to our offices included those who had come to give information, or to try and find out what had happened to those they had left behind.\n",
      "I shall never forget the African torture victim, a young man no older than I was at the time, who had become mentally ill after all he had endured in his homeland. He trembled uncontrollably as he spoke into a video camera about the brutality inflicted upon him. He was a foot taller than I was, and seemed as fragile as a child. I was given the job of escorting him back to the Underground Station afterwards, and this man whose life had been shattered by cruelty took my hand with exquisite courtesy, and wished me future happiness.\n",
      "And as long as I live I shall remember walking along an empty corridor and suddenly hearing, from behind a closed door, a scream of pain and horror such as I have never heard since. The door opened, and the researcher poked out her head and told me to run and make a hot drink for the young man sitting with her. She had just had to give him the news that in retaliation for his own outspokenness against his country’s regime, his mother had been seized and executed.\n",
      "Every day of my working week in my early 20s I was reminded how incredibly fortunate I was, to live in a country with a democratically elected government, where legal representation and a public trial were the rights of everyone.\n",
      "Every day, I saw more evidence about the evils humankind will inflict on their fellow humans, to gain or maintain power. I began to have nightmares, literal nightmares, about some of the things I saw, heard, and read.\n",
      "And yet I also learned more about human goodness at Amnesty International than I had ever known before.\n",
      "Amnesty mobilises thousands of people who have never been tortured or imprisoned for their beliefs to act on behalf of those who have. The power of human empathy, leading to collective action, saves lives, and frees prisoners. Ordinary people, whose personal well-being and security are assured, join together in huge numbers to save people they do not know, and will never meet. My small participation in that process was one of the most humbling and inspiring experiences of my life.\n",
      "Unlike any other creature on this planet, humans can learn and understand, without having experienced. They can think themselves into other people’s places.\n",
      "Of course, this is a power, like my brand of fictional magic, that is morally neutral. One might use such an ability to manipulate, or control, just as much as to understand or sympathise.\n",
      "And many prefer not to exercise their imaginations at all. They choose to remain comfortably within the bounds of their own experience, never troubling to wonder how it would feel to have been born other than they are. They can refuse to hear screams or to peer inside cages; they can close their minds and hearts to any suffering that does not touch them personally; they can refuse to know.\n",
      "I might be tempted to envy people who can live that way, except that I do not think they have any fewer nightmares than I do. Choosing to live in narrow spaces leads to a form of mental agoraphobia, and that brings its own terrors. I think the wilfully unimaginative see more monsters. They are often more afraid.\n",
      "What is more, those who choose not to empathise enable real monsters. For without ever committing an act of outright evil ourselves, we collude with it, through our own apathy.\n",
      "One of the many things I learned at the end of that Classics corridor down which I ventured at the age of 18, in search of something I could not then define, was this, written by the Greek author Plutarch: What we achieve inwardly will change outer reality.\n",
      "That is an astonishing statement and yet proven a thousand times every day of our lives. It expresses, in part, our inescapable connection with the outside world, the fact that we touch other people’s lives simply by existing.\n",
      "But how much more are you, Harvard graduates of 2008, likely to touch other people’s lives? Your intelligence, your capacity for hard work, the education you have earned and received, give you unique status, and unique responsibilities. Even your nationality sets you apart. The great majority of you belong to the world’s only remaining superpower. The way you vote, the way you live, the way you protest, the pressure you bring to bear on your government, has an impact way beyond your borders. That is your privilege, and your burden.\n",
      "If you choose to use your status and influence to raise your voice on behalf of those who have no voice; if you choose to identify not only with the powerful, but with the powerless; if you retain the ability to imagine yourself into the lives of those who do not have your advantages, then it will not only be your proud families who celebrate your existence, but thousands and millions of people whose reality you have helped change. We do not need magic to change the world, we carry all the power we need inside ourselves already: we have the power to imagine better.\n",
      "I am nearly finished. I have one last hope for you, which is something that I already had at 21. The friends with whom I sat on graduation day have been my friends for life. They are my children’s godparents, the people to whom I’ve been able to turn in times of trouble, people who have been kind enough not to sue me when I took their names for Death Eaters. At our graduation we were bound by enormous affection, by our shared experience of a time that could never come again, and, of course, by the knowledge that we held certain photographic evidence that would be exceptionally valuable if any of us ran for Prime Minister.\n",
      "So today, I wish you nothing better than similar friendships. And tomorrow, I hope that even if you remember not a single word of mine, you remember those of Seneca, another of those old Romans I met when I fled down the Classics corridor, in retreat from career ladders, in search of ancient wisdom:\n",
      "As is a tale, so is life: not how long it is, but how good it is, is what matters.\n",
      "I wish you all very good lives.\n",
      "Thank-you very much.\n",
      "\n"
     ]
    }
   ],
   "source": [
    "f = open(\"조앤롤링 연설문.txt\", 'r', encoding='euc-kr')\n",
    "message_of_조앤롤링 = f.read()\n",
    "print(message_of_조앤롤링)\n",
    "f.close()"
   ]
  },
  {
   "cell_type": "code",
   "execution_count": 3,
   "metadata": {},
   "outputs": [
    {
     "data": {
      "text/plain": [
       "['President Faust, members of the Harvard Corporation and the Board of Overseers, members of the faculty, proud parents, and, above all, graduates.\\nThe first thing I would like to say is ‘thank you.’ Not only has Harvard given me an extraordinary honour, but the weeks of fear and nausea I have endured at the thought of giving this commencement address have made me lose weight. A win-win situation! Now all I have to do is take deep breaths, squint at the red banners and convince myself that I am at the world’s largest Gryffindor reunion.\\nDelivering a commencement address is a great responsibility; or so I thought until I cast my mind back to my own graduation. The commencement speaker that day was the distinguished British philosopher Baroness Mary Warnock. Reflecting on her speech has helped me enormously in writing this one, because it turns out that I can’t remember a single word she said. This liberating discovery enables me to proceed without any fear that I might inadvertently influence you to abandon promising careers in business, the law or politics for the giddy delights of becoming a gay wizard.\\nYou see? If all you remember in years to come is the ‘gay wizard’ joke, I’ve come out ahead of Baroness Mary Warnock. Achievable goals: the first step to self improvement.\\nActually, I have wracked my mind and heart for what I ought to say to you today. I have asked myself what I wish I had known at my own graduation, and what important lessons I have learned in the 21 years that have expired between that day and this.\\nI have come up with two answers. On this wonderful day when we are gathered together to celebrate your academic success, I have decided to talk to you about the benefits of failure. And as you stand on the threshold of what is sometimes called ‘real life’, I want to extol the crucial importance of imagination.\\nThese may seem quixotic or paradoxical choices, but please bear with me.\\nLooking back at the 21-year-old that I was at graduation, is a slightly uncomfortable experience for the 42-year-old that she has become. Half my lifetime ago, I was striking an uneasy balance between the ambition I had for myself, and what those closest to me expected of me.\\nI was convinced that the only thing I wanted to do, ever, was to write novels. However, my parents, both of whom came from impoverished backgrounds and neither of whom had been to college, took the view that my overactive imagination was an amusing personal quirk that would never pay a mortgage, or secure a pension. I know that the irony strikes with the force of a cartoon anvil, now.\\nSo they hoped that I would take a vocational degree; I wanted to study English Literature. A compromise was reached that in retrospect satisfied nobody, and I went up to study Modern Languages. Hardly had my parents’ car rounded the corner at the end of the road than I ditched German and scuttled off down the Classics corridor.\\nI cannot remember telling my parents that I was studying Classics; they might well have found out for the first time on graduation day. Of all the subjects on this planet, I think they would have been hard put to name one less useful than Greek mythology when it came to securing the keys to an executive bathroom.\\nI would like to make it clear, in parenthesis, that I do not blame my parents for their point of view. There is an expiry date on blaming your parents for steering you in the wrong direction; the moment you are old enough to take the wheel, responsibility lies with you. What is more, I cannot criticise my parents for hoping that I would never experience poverty. They had been poor themselves, and I have since been poor, and I quite agree with them that it is not an ennobling experience. Poverty entails fear, and stress, and sometimes depression; it means a thousand petty humiliations and hardships. Climbing out of poverty by your own efforts, that is indeed something on which to pride yourself, but poverty itself is romanticised only by fools.\\nWhat I feared most for myself at your age was not poverty, but failure. \\nAt your age, in spite of a distinct lack of motivation at university, where I had spent far too long in the coffee bar writing stories, and far too little time at lectures, I had a knack for passing examinations, and that, for years, had been the measure of success in my life and that of my peers.\\nI am not dull enough to suppose that because you are young, gifted and well-educated, you have never known hardship or heartbreak. Talent and intelligence never yet inoculated anyone against the caprice of the Fates, and I do not for a moment suppose that everyone here has enjoyed an existence of unruffled privilege and contentment.\\nHowever, the fact that you are graduating from Harvard suggests that you are not very well-acquainted with failure. You might be driven by a fear of failure quite as much as a desire for success. Indeed, your conception of failure might not be too far from the average person’s idea of success, so high have you already flown.\\nUltimately, we all have to decide for ourselves what constitutes failure, but the world is quite eager to give you a set of criteria if you let it. So I think it fair to say that by any conventional measure, a mere seven years after my graduation day, I had failed on an epic scale. An exceptionally short-lived marriage had imploded, and I was jobless, a lone parent, and as poor as it is possible to be in modern Britain, without being homeless. The fears that my parents had had for me, and that I had had for myself, had both come to pass, and by every usual standard, I was the biggest failure I knew.\\nNow, I am not going to stand here and tell you that failure is fun. That period of my life was a dark one, and I had no idea that there was going to be what the press has since represented as a kind of fairy tale resolution. I had no idea then how far the tunnel extended, and for a long time, any light at the end of it was a hope rather than a reality.\\nSo why do I talk about the benefits of failure? Simply because failure meant a stripping away of the inessential. I stopped pretending to myself that I was anything other than what I was, and began to direct all my energy into finishing the only work that mattered to me. Had I really succeeded at anything else, I might never have found the determination to succeed in the one arena I believed I truly belonged. I was set free, because my greatest fear had been realised, and I was still alive, and I still had a daughter whom I adored, and I had an old typewriter and a big idea. And so rock bottom became the solid foundation on which I rebuilt my life.\\nYou might never fail on the scale I did, but some failure in life is inevitable. It is impossible to live without failing at something, unless you live so cautiously that you might as well not have lived at all ? in which case, you fail by default.\\nFailure gave me an inner security that I had never attained by passing examinations. Failure taught me things about myself that I could have learned no other way. I discovered that I had a strong will, and more discipline than I had suspected; I also found out that I had friends whose value was truly above the price of rubies.\\nThe knowledge that you have emerged wiser and stronger from setbacks means that you are, ever after, secure in your ability to survive. You will never truly know yourself, or the strength of your relationships, until both have been tested by adversity. Such knowledge is a true gift, for all that it is painfully won, and it has been worth more than any qualification I ever earned.\\nSo given a Time Turner, I would tell my 21-year-old self that personal happiness lies in knowing that life is not a check-list of acquisition or achievement. Your qualifications, your CV, are not your life, though you will meet many people of my age and older who confuse the two. Life is difficult, and complicated, and beyond anyone’s total control, and the humility to know that will enable you to survive its vicissitudes.\\nNow you might think that I chose my second theme, the importance of imagination, because of the part it played in rebuilding my life, but that is not wholly so. Though I personally will defend the value of bedtime stories to my last gasp, I have learned to value imagination in a much broader sense. Imagination is not only the uniquely human capacity to envision that which is not, and therefore the fount of all invention and innovation. In its arguably most transformative and revelatory capacity, it is the power that enables us to empathise with humans whose experiences we have never shared.\\nOne of the greatest formative experiences of my life preceded Harry Potter, though it informed much of what I subsequently wrote in those books. This revelation came in the form of one of my earliest day jobs. Though I was sloping off to write stories during my lunch hours, I paid the rent in my early 20s by working at the African research department at Amnesty International’s headquarters in London.\\nThere in my little office I read hastily scribbled letters smuggled out of totalitarian regimes by men and women who were risking imprisonment to inform the outside world of what was happening to them. I saw photographs of those who had disappeared without trace, sent to Amnesty by their desperate families and friends. I read the testimony of torture victims and saw pictures of their injuries. I opened handwritten, eye-witness accounts of summary trials and executions, of kidnappings and rapes.\\nMany of my co-workers were ex-political prisoners, people who had been displaced from their homes, or fled into exile, because they had the temerity to speak against their governments. Visitors to our offices included those who had come to give information, or to try and find out what had happened to those they had left behind.\\nI shall never forget the African torture victim, a young man no older than I was at the time, who had become mentally ill after all he had endured in his homeland. He trembled uncontrollably as he spoke into a video camera about the brutality inflicted upon him. He was a foot taller than I was, and seemed as fragile as a child. I was given the job of escorting him back to the Underground Station afterwards, and this man whose life had been shattered by cruelty took my hand with exquisite courtesy, and wished me future happiness.\\nAnd as long as I live I shall remember walking along an empty corridor and suddenly hearing, from behind a closed door, a scream of pain and horror such as I have never heard since. The door opened, and the researcher poked out her head and told me to run and make a hot drink for the young man sitting with her. She had just had to give him the news that in retaliation for his own outspokenness against his country’s regime, his mother had been seized and executed.\\nEvery day of my working week in my early 20s I was reminded how incredibly fortunate I was, to live in a country with a democratically elected government, where legal representation and a public trial were the rights of everyone.\\nEvery day, I saw more evidence about the evils humankind will inflict on their fellow humans, to gain or maintain power. I began to have nightmares, literal nightmares, about some of the things I saw, heard, and read.\\nAnd yet I also learned more about human goodness at Amnesty International than I had ever known before.\\nAmnesty mobilises thousands of people who have never been tortured or imprisoned for their beliefs to act on behalf of those who have. The power of human empathy, leading to collective action, saves lives, and frees prisoners. Ordinary people, whose personal well-being and security are assured, join together in huge numbers to save people they do not know, and will never meet. My small participation in that process was one of the most humbling and inspiring experiences of my life.\\nUnlike any other creature on this planet, humans can learn and understand, without having experienced. They can think themselves into other people’s places.\\nOf course, this is a power, like my brand of fictional magic, that is morally neutral. One might use such an ability to manipulate, or control, just as much as to understand or sympathise.\\nAnd many prefer not to exercise their imaginations at all. They choose to remain comfortably within the bounds of their own experience, never troubling to wonder how it would feel to have been born other than they are. They can refuse to hear screams or to peer inside cages; they can close their minds and hearts to any suffering that does not touch them personally; they can refuse to know.\\nI might be tempted to envy people who can live that way, except that I do not think they have any fewer nightmares than I do. Choosing to live in narrow spaces leads to a form of mental agoraphobia, and that brings its own terrors. I think the wilfully unimaginative see more monsters. They are often more afraid.\\nWhat is more, those who choose not to empathise enable real monsters. For without ever committing an act of outright evil ourselves, we collude with it, through our own apathy.\\nOne of the many things I learned at the end of that Classics corridor down which I ventured at the age of 18, in search of something I could not then define, was this, written by the Greek author Plutarch: What we achieve inwardly will change outer reality.\\nThat is an astonishing statement and yet proven a thousand times every day of our lives. It expresses, in part, our inescapable connection with the outside world, the fact that we touch other people’s lives simply by existing.\\nBut how much more are you, Harvard graduates of 2008, likely to touch other people’s lives? Your intelligence, your capacity for hard work, the education you have earned and received, give you unique status, and unique responsibilities. Even your nationality sets you apart. The great majority of you belong to the world’s only remaining superpower. The way you vote, the way you live, the way you protest, the pressure you bring to bear on your government, has an impact way beyond your borders. That is your privilege, and your burden.\\nIf you choose to use your status and influence to raise your voice on behalf of those who have no voice; if you choose to identify not only with the powerful, but with the powerless; if you retain the ability to imagine yourself into the lives of those who do not have your advantages, then it will not only be your proud families who celebrate your existence, but thousands and millions of people whose reality you have helped change. We do not need magic to change the world, we carry all the power we need inside ourselves already: we have the power to imagine better.\\nI am nearly finished. I have one last hope for you, which is something that I already had at 21. The friends with whom I sat on graduation day have been my friends for life. They are my children’s godparents, the people to whom I’ve been able to turn in times of trouble, people who have been kind enough not to sue me when I took their names for Death Eaters. At our graduation we were bound by enormous affection, by our shared experience of a time that could never come again, and, of course, by the knowledge that we held certain photographic evidence that would be exceptionally valuable if any of us ran for Prime Minister.\\nSo today, I wish you nothing better than similar friendships. And tomorrow, I hope that even if you remember not a single word of mine, you remember those of Seneca, another of those old Romans I met when I fled down the Classics corridor, in retreat from career ladders, in search of ancient wisdom:\\nAs is a tale, so is life: not how long it is, but how good it is, is what matters.\\nI wish you all very good lives.\\nThank-you very much.\\n']"
      ]
     },
     "execution_count": 3,
     "metadata": {},
     "output_type": "execute_result"
    }
   ],
   "source": [
    "message_of_조앤롤링 = message_of_조앤롤링.split('\\n\\n')\n",
    "message_of_조앤롤링"
   ]
  },
  {
   "cell_type": "code",
   "execution_count": 6,
   "metadata": {},
   "outputs": [
    {
     "ename": "NameError",
     "evalue": "name 'CountVectorizer' is not defined",
     "output_type": "error",
     "traceback": [
      "\u001b[1;31m---------------------------------------------------------------------------\u001b[0m",
      "\u001b[1;31mNameError\u001b[0m                                 Traceback (most recent call last)",
      "\u001b[1;32m<ipython-input-6-0658dd7814ff>\u001b[0m in \u001b[0;36m<module>\u001b[1;34m()\u001b[0m\n\u001b[1;32m----> 1\u001b[1;33m \u001b[0mtf_vectorizer\u001b[0m \u001b[1;33m=\u001b[0m \u001b[0mCountVectorizer\u001b[0m\u001b[1;33m(\u001b[0m\u001b[0mmin_df\u001b[0m \u001b[1;33m=\u001b[0m \u001b[1;36m0.001\u001b[0m\u001b[1;33m,\u001b[0m \u001b[0mtoken_pattern\u001b[0m\u001b[1;33m=\u001b[0m\u001b[1;34mr'\\w{2,}'\u001b[0m\u001b[1;33m)\u001b[0m\u001b[1;33m\u001b[0m\u001b[0m\n\u001b[0m\u001b[0;32m      2\u001b[0m \u001b[1;33m\u001b[0m\u001b[0m\n\u001b[0;32m      3\u001b[0m \u001b[0mtf_corpus1\u001b[0m \u001b[1;33m=\u001b[0m \u001b[0mtf_vectorizer\u001b[0m\u001b[1;33m.\u001b[0m\u001b[0mfit\u001b[0m\u001b[1;33m(\u001b[0m\u001b[0mmessage_of_조앤롤링\u001b[0m\u001b[1;33m)\u001b[0m\u001b[1;33m\u001b[0m\u001b[0m\n\u001b[0;32m      4\u001b[0m \u001b[0mtf_bow1\u001b[0m \u001b[1;33m=\u001b[0m \u001b[0mtf_vectorizer\u001b[0m\u001b[1;33m.\u001b[0m\u001b[0mfit_transform\u001b[0m\u001b[1;33m(\u001b[0m\u001b[0mmessage_of_조앤롤링\u001b[0m\u001b[1;33m)\u001b[0m\u001b[1;33m\u001b[0m\u001b[0m\n\u001b[0;32m      5\u001b[0m \u001b[0mtf_bow1\u001b[0m\u001b[1;33m\u001b[0m\u001b[0m\n",
      "\u001b[1;31mNameError\u001b[0m: name 'CountVectorizer' is not defined"
     ]
    }
   ],
   "source": [
    "tf_vectorizer = CountVectorizer(min_df = 0.001, token_pattern=r'\\w{2,}')\n",
    "\n",
    "tf_corpus1 = tf_vectorizer.fit(message_of_조앤롤링)\n",
    "tf_bow1 = tf_vectorizer.fit_transform(message_of_조앤롤링)\n",
    "tf_bow1"
   ]
  },
  {
   "cell_type": "code",
   "execution_count": 7,
   "metadata": {},
   "outputs": [
    {
     "ename": "NameError",
     "evalue": "name 'tf_corpus1' is not defined",
     "output_type": "error",
     "traceback": [
      "\u001b[1;31m---------------------------------------------------------------------------\u001b[0m",
      "\u001b[1;31mNameError\u001b[0m                                 Traceback (most recent call last)",
      "\u001b[1;32m<ipython-input-7-e0c258e03038>\u001b[0m in \u001b[0;36m<module>\u001b[1;34m()\u001b[0m\n\u001b[1;32m----> 1\u001b[1;33m \u001b[0mprint\u001b[0m\u001b[1;33m(\u001b[0m\u001b[0mlen\u001b[0m\u001b[1;33m(\u001b[0m\u001b[0mtf_corpus1\u001b[0m\u001b[1;33m.\u001b[0m\u001b[0mvocabulary_\u001b[0m\u001b[1;33m)\u001b[0m\u001b[1;33m)\u001b[0m\u001b[1;33m\u001b[0m\u001b[0m\n\u001b[0m\u001b[0;32m      2\u001b[0m \u001b[0mprint\u001b[0m\u001b[1;33m(\u001b[0m\u001b[0mlen\u001b[0m\u001b[1;33m(\u001b[0m\u001b[0mtf_corpus1\u001b[0m\u001b[1;33m.\u001b[0m\u001b[0mget_feature_names\u001b[0m\u001b[1;33m(\u001b[0m\u001b[1;33m)\u001b[0m\u001b[1;33m)\u001b[0m\u001b[1;33m)\u001b[0m\u001b[1;33m\u001b[0m\u001b[0m\n\u001b[0;32m      3\u001b[0m \u001b[0mtf_vectorizer\u001b[0m\u001b[1;33m.\u001b[0m\u001b[0mget_feature_names\u001b[0m\u001b[1;33m(\u001b[0m\u001b[1;33m)\u001b[0m\u001b[1;33m\u001b[0m\u001b[0m\n",
      "\u001b[1;31mNameError\u001b[0m: name 'tf_corpus1' is not defined"
     ]
    }
   ],
   "source": [
    "print(len(tf_corpus1.vocabulary_))\n",
    "print(len(tf_corpus1.get_feature_names()))\n",
    "tf_vectorizer.get_feature_names()"
   ]
  },
  {
   "cell_type": "code",
   "execution_count": 8,
   "metadata": {},
   "outputs": [
    {
     "ename": "NameError",
     "evalue": "name 'tf_bow1' is not defined",
     "output_type": "error",
     "traceback": [
      "\u001b[1;31m---------------------------------------------------------------------------\u001b[0m",
      "\u001b[1;31mNameError\u001b[0m                                 Traceback (most recent call last)",
      "\u001b[1;32m<ipython-input-8-ed6d41f006e4>\u001b[0m in \u001b[0;36m<module>\u001b[1;34m()\u001b[0m\n\u001b[1;32m----> 1\u001b[1;33m \u001b[0mtf_word_sum1\u001b[0m \u001b[1;33m=\u001b[0m \u001b[0mtf_bow1\u001b[0m\u001b[1;33m.\u001b[0m\u001b[0mtoarray\u001b[0m\u001b[1;33m(\u001b[0m\u001b[1;33m)\u001b[0m\u001b[1;33m.\u001b[0m\u001b[0msum\u001b[0m\u001b[1;33m(\u001b[0m\u001b[0maxis\u001b[0m\u001b[1;33m=\u001b[0m\u001b[1;36m0\u001b[0m\u001b[1;33m)\u001b[0m\u001b[1;33m\u001b[0m\u001b[0m\n\u001b[0m\u001b[0;32m      2\u001b[0m \u001b[0mtf_word_name1\u001b[0m \u001b[1;33m=\u001b[0m \u001b[0mtf_corpus1\u001b[0m\u001b[1;33m.\u001b[0m\u001b[0mget_feature_names\u001b[0m\u001b[1;33m(\u001b[0m\u001b[1;33m)\u001b[0m\u001b[1;33m\u001b[0m\u001b[0m\n\u001b[0;32m      3\u001b[0m \u001b[0mtf_word_dict1\u001b[0m \u001b[1;33m=\u001b[0m \u001b[1;33m{\u001b[0m\u001b[1;33m}\u001b[0m\u001b[1;33m\u001b[0m\u001b[0m\n\u001b[0;32m      4\u001b[0m \u001b[1;33m\u001b[0m\u001b[0m\n\u001b[0;32m      5\u001b[0m \u001b[1;32mfor\u001b[0m \u001b[0mi\u001b[0m \u001b[1;32min\u001b[0m \u001b[0mrange\u001b[0m\u001b[1;33m(\u001b[0m\u001b[0mlen\u001b[0m\u001b[1;33m(\u001b[0m\u001b[0mtf_word_sum1\u001b[0m\u001b[1;33m)\u001b[0m\u001b[1;33m)\u001b[0m\u001b[1;33m:\u001b[0m\u001b[1;33m\u001b[0m\u001b[0m\n",
      "\u001b[1;31mNameError\u001b[0m: name 'tf_bow1' is not defined"
     ]
    }
   ],
   "source": [
    "tf_word_sum1 = tf_bow1.toarray().sum(axis=0)\n",
    "tf_word_name1 = tf_corpus1.get_feature_names()\n",
    "tf_word_dict1 = {}\n",
    "\n",
    "for i in range(len(tf_word_sum1)):\n",
    "    tf_word_dict1[tf_word_name1[i]] = tf_word_sum1[i]\n",
    "    \n",
    "print(tf_corpus1.get_feature_names())\n",
    "tf_word_sum1"
   ]
  },
  {
   "cell_type": "code",
   "execution_count": 9,
   "metadata": {},
   "outputs": [
    {
     "ename": "NameError",
     "evalue": "name 'tf_word_dict1' is not defined",
     "output_type": "error",
     "traceback": [
      "\u001b[1;31m---------------------------------------------------------------------------\u001b[0m",
      "\u001b[1;31mNameError\u001b[0m                                 Traceback (most recent call last)",
      "\u001b[1;32m<ipython-input-9-21500e0f421e>\u001b[0m in \u001b[0;36m<module>\u001b[1;34m()\u001b[0m\n\u001b[1;32m----> 1\u001b[1;33m \u001b[0mtf_word_dict1\u001b[0m\u001b[1;33m\u001b[0m\u001b[0m\n\u001b[0m",
      "\u001b[1;31mNameError\u001b[0m: name 'tf_word_dict1' is not defined"
     ]
    }
   ],
   "source": [
    "tf_word_dict1"
   ]
  },
  {
   "cell_type": "code",
   "execution_count": 11,
   "metadata": {},
   "outputs": [
    {
     "ename": "NameError",
     "evalue": "name 'owl' is not defined",
     "output_type": "error",
     "traceback": [
      "\u001b[1;31m---------------------------------------------------------------------------\u001b[0m",
      "\u001b[1;31mNameError\u001b[0m                                 Traceback (most recent call last)",
      "\u001b[1;32m<ipython-input-11-9250eff7b979>\u001b[0m in \u001b[0;36m<module>\u001b[1;34m()\u001b[0m\n\u001b[0;32m      1\u001b[0m \u001b[1;31m# 연설문 1\u001b[0m\u001b[1;33m\u001b[0m\u001b[1;33m\u001b[0m\u001b[0m\n\u001b[1;32m----> 2\u001b[1;33m \u001b[0micon\u001b[0m \u001b[1;33m=\u001b[0m \u001b[0mowl\u001b[0m\u001b[1;33m.\u001b[0m\u001b[0mopen\u001b[0m\u001b[1;33m(\u001b[0m\u001b[0micon_path\u001b[0m\u001b[1;33m)\u001b[0m\u001b[1;33m.\u001b[0m\u001b[0mconvert\u001b[0m\u001b[1;33m(\u001b[0m\u001b[1;34m\"RGBA\"\u001b[0m\u001b[1;33m)\u001b[0m\u001b[1;33m\u001b[0m\u001b[0m\n\u001b[0m\u001b[0;32m      3\u001b[0m \u001b[0mmask\u001b[0m \u001b[1;33m=\u001b[0m \u001b[0mowl\u001b[0m\u001b[1;33m.\u001b[0m\u001b[0mnew\u001b[0m\u001b[1;33m(\u001b[0m\u001b[1;34m\"RGB\"\u001b[0m\u001b[1;33m,\u001b[0m \u001b[0micon\u001b[0m\u001b[1;33m.\u001b[0m\u001b[0msize\u001b[0m\u001b[1;33m,\u001b[0m \u001b[1;33m(\u001b[0m\u001b[1;36m255\u001b[0m\u001b[1;33m,\u001b[0m\u001b[1;36m255\u001b[0m\u001b[1;33m,\u001b[0m\u001b[1;36m255\u001b[0m\u001b[1;33m)\u001b[0m\u001b[1;33m)\u001b[0m\u001b[1;33m\u001b[0m\u001b[0m\n\u001b[0;32m      4\u001b[0m \u001b[0mmask\u001b[0m\u001b[1;33m.\u001b[0m\u001b[0mpaste\u001b[0m\u001b[1;33m(\u001b[0m\u001b[0micon\u001b[0m\u001b[1;33m,\u001b[0m\u001b[0micon\u001b[0m\u001b[1;33m)\u001b[0m\u001b[1;33m\u001b[0m\u001b[0m\n\u001b[0;32m      5\u001b[0m \u001b[0mmask\u001b[0m \u001b[1;33m=\u001b[0m \u001b[0mnp\u001b[0m\u001b[1;33m.\u001b[0m\u001b[0marray\u001b[0m\u001b[1;33m(\u001b[0m\u001b[0mmask\u001b[0m\u001b[1;33m)\u001b[0m\u001b[1;33m\u001b[0m\u001b[0m\n",
      "\u001b[1;31mNameError\u001b[0m: name 'owl' is not defined"
     ]
    }
   ],
   "source": [
    "# 연설문 1\n",
    "icon = owl.open(icon_path).convert(\"RGBA\")\n",
    "mask = owl.new(\"RGB\", icon.size, (255,255,255))\n",
    "mask.paste(icon,icon)\n",
    "mask = np.array(mask)\n",
    "\n",
    "wc = WordCloud(font_path=font_path, background_color=\"white\", max_words=2000, mask=mask,\n",
    "               max_font_size=300, random_state=42).generate_from_frequencies(tf_word_dict1)\n",
    "\n",
    "plt.figure(figsize=(30, 90))\n",
    "plt.imshow(wc, interpolation=\"bilinear\")\n",
    "plt.axis(\"off\")\n",
    "plt.show()\n",
    "wc.to_file(\"MoonSpeech.png\") # 그림파일로 추출하기"
   ]
  },
  {
   "cell_type": "code",
   "execution_count": null,
   "metadata": {},
   "outputs": [],
   "source": []
  },
  {
   "cell_type": "code",
   "execution_count": null,
   "metadata": {},
   "outputs": [],
   "source": []
  },
  {
   "cell_type": "code",
   "execution_count": null,
   "metadata": {},
   "outputs": [],
   "source": []
  },
  {
   "cell_type": "code",
   "execution_count": null,
   "metadata": {},
   "outputs": [],
   "source": []
  },
  {
   "cell_type": "code",
   "execution_count": null,
   "metadata": {},
   "outputs": [],
   "source": []
  },
  {
   "cell_type": "code",
   "execution_count": null,
   "metadata": {},
   "outputs": [],
   "source": []
  },
  {
   "cell_type": "code",
   "execution_count": null,
   "metadata": {},
   "outputs": [],
   "source": []
  },
  {
   "cell_type": "code",
   "execution_count": null,
   "metadata": {},
   "outputs": [],
   "source": []
  },
  {
   "cell_type": "code",
   "execution_count": null,
   "metadata": {},
   "outputs": [],
   "source": []
  }
 ],
 "metadata": {
  "kernelspec": {
   "display_name": "Python 3",
   "language": "python",
   "name": "python3"
  },
  "language_info": {
   "codemirror_mode": {
    "name": "ipython",
    "version": 3
   },
   "file_extension": ".py",
   "mimetype": "text/x-python",
   "name": "python",
   "nbconvert_exporter": "python",
   "pygments_lexer": "ipython3",
   "version": "3.6.4"
  }
 },
 "nbformat": 4,
 "nbformat_minor": 2
}
